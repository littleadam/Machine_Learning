{
  "cells": [
    {
      "cell_type": "markdown",
      "metadata": {
        "id": "view-in-github",
        "colab_type": "text"
      },
      "source": [
        "<a href=\"https://colab.research.google.com/github/littleadam/Machine_Learning/blob/main/general/onion_prices_data_inspection.ipynb\" target=\"_parent\"><img src=\"https://colab.research.google.com/assets/colab-badge.svg\" alt=\"Open In Colab\"/></a>"
      ]
    },
    {
      "cell_type": "markdown",
      "metadata": {
        "id": "J_SMcj8A8YJt"
      },
      "source": [
        "# import modules"
      ]
    },
    {
      "cell_type": "code",
      "execution_count": null,
      "metadata": {
        "id": "yFOp7wxz8YJ0"
      },
      "outputs": [],
      "source": [
        "import pandas as pd"
      ]
    },
    {
      "cell_type": "code",
      "execution_count": null,
      "metadata": {
        "id": "iIc_Kq0O8YJ3"
      },
      "outputs": [],
      "source": [
        "from pandas import read_csv"
      ]
    },
    {
      "cell_type": "markdown",
      "metadata": {
        "id": "uT69Cyxr8YJ5"
      },
      "source": [
        "# read the csv file"
      ]
    },
    {
      "cell_type": "code",
      "execution_count": null,
      "metadata": {
        "ExecuteTime": {
          "end_time": "2021-02-17T09:52:08.944945Z",
          "start_time": "2021-02-17T09:52:08.813657Z"
        },
        "id": "onFefoc38YJ5"
      },
      "outputs": [],
      "source": [
        "filename = 'daily_retail_price_Onion-upto_apr_2015.csv'\n",
        "header_names = ['Date','Centre_Name','Commodity_Name','Price']\n",
        "onion = read_csv(filename,names = header_names)"
      ]
    },
    {
      "cell_type": "markdown",
      "metadata": {
        "id": "OxIX45vA8YJ7"
      },
      "source": [
        "# display the data"
      ]
    },
    {
      "cell_type": "code",
      "execution_count": null,
      "metadata": {
        "ExecuteTime": {
          "end_time": "2021-02-17T09:52:09.969192Z",
          "start_time": "2021-02-17T09:52:09.938208Z"
        },
        "scrolled": true,
        "id": "D-_nWC3G8YJ8",
        "outputId": "56805e61-8f32-44e5-da4e-b76449d3c1ba"
      },
      "outputs": [
        {
          "data": {
            "text/html": [
              "<div>\n",
              "<style scoped>\n",
              "    .dataframe tbody tr th:only-of-type {\n",
              "        vertical-align: middle;\n",
              "    }\n",
              "\n",
              "    .dataframe tbody tr th {\n",
              "        vertical-align: top;\n",
              "    }\n",
              "\n",
              "    .dataframe thead th {\n",
              "        text-align: right;\n",
              "    }\n",
              "</style>\n",
              "<table border=\"1\" class=\"dataframe\">\n",
              "  <thead>\n",
              "    <tr style=\"text-align: right;\">\n",
              "      <th></th>\n",
              "      <th>Date</th>\n",
              "      <th>Centre_Name</th>\n",
              "      <th>Commodity_Name</th>\n",
              "      <th>Price</th>\n",
              "    </tr>\n",
              "  </thead>\n",
              "  <tbody>\n",
              "    <tr>\n",
              "      <th>0</th>\n",
              "      <td>25-11-97</td>\n",
              "      <td>DELHI</td>\n",
              "      <td>Onion</td>\n",
              "      <td>8.0</td>\n",
              "    </tr>\n",
              "    <tr>\n",
              "      <th>1</th>\n",
              "      <td>25-11-97</td>\n",
              "      <td>SHIMLA</td>\n",
              "      <td>Onion</td>\n",
              "      <td>7.0</td>\n",
              "    </tr>\n",
              "    <tr>\n",
              "      <th>2</th>\n",
              "      <td>25-11-97</td>\n",
              "      <td>LUCKNOW</td>\n",
              "      <td>Onion</td>\n",
              "      <td>5.0</td>\n",
              "    </tr>\n",
              "    <tr>\n",
              "      <th>3</th>\n",
              "      <td>25-11-97</td>\n",
              "      <td>AHMEDABAD</td>\n",
              "      <td>Onion</td>\n",
              "      <td>6.0</td>\n",
              "    </tr>\n",
              "    <tr>\n",
              "      <th>4</th>\n",
              "      <td>25-11-97</td>\n",
              "      <td>BHOPAL</td>\n",
              "      <td>Onion</td>\n",
              "      <td>8.0</td>\n",
              "    </tr>\n",
              "    <tr>\n",
              "      <th>...</th>\n",
              "      <td>...</td>\n",
              "      <td>...</td>\n",
              "      <td>...</td>\n",
              "      <td>...</td>\n",
              "    </tr>\n",
              "    <tr>\n",
              "      <th>127906</th>\n",
              "      <td>28-04-15</td>\n",
              "      <td>DINDIGUL</td>\n",
              "      <td>Onion</td>\n",
              "      <td>18.0</td>\n",
              "    </tr>\n",
              "    <tr>\n",
              "      <th>127907</th>\n",
              "      <td>28-04-15</td>\n",
              "      <td>THIRUCHIRAPALLI</td>\n",
              "      <td>Onion</td>\n",
              "      <td>18.0</td>\n",
              "    </tr>\n",
              "    <tr>\n",
              "      <th>127908</th>\n",
              "      <td>28-04-15</td>\n",
              "      <td>COIMBATORE</td>\n",
              "      <td>Onion</td>\n",
              "      <td>18.0</td>\n",
              "    </tr>\n",
              "    <tr>\n",
              "      <th>127909</th>\n",
              "      <td>28-04-15</td>\n",
              "      <td>TIRUNELVELI</td>\n",
              "      <td>Onion</td>\n",
              "      <td>18.0</td>\n",
              "    </tr>\n",
              "    <tr>\n",
              "      <th>127910</th>\n",
              "      <td>28-04-15</td>\n",
              "      <td>HYDERABAD</td>\n",
              "      <td>Onion</td>\n",
              "      <td>22.0</td>\n",
              "    </tr>\n",
              "  </tbody>\n",
              "</table>\n",
              "<p>127911 rows × 4 columns</p>\n",
              "</div>"
            ],
            "text/plain": [
              "            Date      Centre_Name Commodity_Name  Price\n",
              "0       25-11-97            DELHI          Onion    8.0\n",
              "1       25-11-97           SHIMLA          Onion    7.0\n",
              "2       25-11-97          LUCKNOW          Onion    5.0\n",
              "3       25-11-97        AHMEDABAD          Onion    6.0\n",
              "4       25-11-97           BHOPAL          Onion    8.0\n",
              "...          ...              ...            ...    ...\n",
              "127906  28-04-15         DINDIGUL          Onion   18.0\n",
              "127907  28-04-15  THIRUCHIRAPALLI          Onion   18.0\n",
              "127908  28-04-15       COIMBATORE          Onion   18.0\n",
              "127909  28-04-15      TIRUNELVELI          Onion   18.0\n",
              "127910  28-04-15        HYDERABAD          Onion   22.0\n",
              "\n",
              "[127911 rows x 4 columns]"
            ]
          },
          "execution_count": 26,
          "metadata": {},
          "output_type": "execute_result"
        }
      ],
      "source": [
        "onion"
      ]
    },
    {
      "cell_type": "code",
      "execution_count": null,
      "metadata": {
        "id": "0NHFlVbq8YJ-",
        "outputId": "ab790b21-94ba-42a3-ae17-5c5a1e457d29"
      },
      "outputs": [
        {
          "name": "stdout",
          "output_type": "stream",
          "text": [
            "<class 'pandas.core.frame.DataFrame'>\n"
          ]
        }
      ],
      "source": [
        "print(type(onion))"
      ]
    },
    {
      "cell_type": "code",
      "execution_count": null,
      "metadata": {
        "id": "fET1Zmk78YKA"
      },
      "outputs": [],
      "source": []
    },
    {
      "cell_type": "markdown",
      "metadata": {
        "id": "xOz32XTb8YKA"
      },
      "source": [
        "# simple commands"
      ]
    },
    {
      "cell_type": "code",
      "execution_count": null,
      "metadata": {
        "ExecuteTime": {
          "end_time": "2021-02-17T09:52:11.457171Z",
          "start_time": "2021-02-17T09:52:11.443177Z"
        },
        "id": "6CJTEWAw8YKB",
        "outputId": "aa176e9c-c3d3-46da-b789-5ab7e613d7aa"
      },
      "outputs": [
        {
          "data": {
            "text/plain": [
              "Date               object\n",
              "Centre_Name        object\n",
              "Commodity_Name     object\n",
              "Price             float64\n",
              "dtype: object"
            ]
          },
          "execution_count": 15,
          "metadata": {},
          "output_type": "execute_result"
        }
      ],
      "source": [
        "onion.dtypes"
      ]
    },
    {
      "cell_type": "code",
      "execution_count": null,
      "metadata": {
        "ExecuteTime": {
          "end_time": "2021-02-17T09:52:12.160267Z",
          "start_time": "2021-02-17T09:52:12.150271Z"
        },
        "id": "S6il8qJd8YKC",
        "outputId": "f0cac23a-4fbd-4435-da8f-e31419f00355"
      },
      "outputs": [
        {
          "data": {
            "text/plain": [
              "2"
            ]
          },
          "execution_count": 16,
          "metadata": {},
          "output_type": "execute_result"
        }
      ],
      "source": [
        "onion.ndim"
      ]
    },
    {
      "cell_type": "code",
      "execution_count": null,
      "metadata": {
        "ExecuteTime": {
          "end_time": "2021-02-17T09:52:12.734318Z",
          "start_time": "2021-02-17T09:52:12.716328Z"
        },
        "id": "z2oGugQq8YKC",
        "outputId": "648a7ffd-d3fc-4290-c067-451932e6011a"
      },
      "outputs": [
        {
          "data": {
            "text/plain": [
              "(127911, 4)"
            ]
          },
          "execution_count": 17,
          "metadata": {},
          "output_type": "execute_result"
        }
      ],
      "source": [
        "onion.shape"
      ]
    },
    {
      "cell_type": "code",
      "execution_count": null,
      "metadata": {
        "ExecuteTime": {
          "end_time": "2021-02-17T09:52:13.357204Z",
          "start_time": "2021-02-17T09:52:13.298238Z"
        },
        "id": "Ahjr2j2b8YKD",
        "outputId": "09c6c805-aa7b-4520-b3a7-ca531b243634"
      },
      "outputs": [
        {
          "name": "stdout",
          "output_type": "stream",
          "text": [
            "<class 'pandas.core.frame.DataFrame'>\n",
            "RangeIndex: 127911 entries, 0 to 127910\n",
            "Data columns (total 4 columns):\n",
            " #   Column          Non-Null Count   Dtype  \n",
            "---  ------          --------------   -----  \n",
            " 0   Date            127911 non-null  object \n",
            " 1   Centre_Name     127911 non-null  object \n",
            " 2   Commodity_Name  127911 non-null  object \n",
            " 3   Price           115991 non-null  float64\n",
            "dtypes: float64(1), object(3)\n",
            "memory usage: 3.9+ MB\n"
          ]
        }
      ],
      "source": [
        "onion.info()"
      ]
    },
    {
      "cell_type": "code",
      "execution_count": null,
      "metadata": {
        "ExecuteTime": {
          "end_time": "2021-02-17T09:52:13.952200Z",
          "start_time": "2021-02-17T09:52:13.925216Z"
        },
        "id": "2H5ugfIx8YKE",
        "outputId": "3ea4daaa-ff9f-4b08-d1d4-661d0505a320"
      },
      "outputs": [
        {
          "data": {
            "text/html": [
              "<div>\n",
              "<style scoped>\n",
              "    .dataframe tbody tr th:only-of-type {\n",
              "        vertical-align: middle;\n",
              "    }\n",
              "\n",
              "    .dataframe tbody tr th {\n",
              "        vertical-align: top;\n",
              "    }\n",
              "\n",
              "    .dataframe thead th {\n",
              "        text-align: right;\n",
              "    }\n",
              "</style>\n",
              "<table border=\"1\" class=\"dataframe\">\n",
              "  <thead>\n",
              "    <tr style=\"text-align: right;\">\n",
              "      <th></th>\n",
              "      <th>Date</th>\n",
              "      <th>Centre_Name</th>\n",
              "      <th>Commodity_Name</th>\n",
              "      <th>Price</th>\n",
              "    </tr>\n",
              "  </thead>\n",
              "  <tbody>\n",
              "    <tr>\n",
              "      <th>0</th>\n",
              "      <td>25-11-97</td>\n",
              "      <td>DELHI</td>\n",
              "      <td>Onion</td>\n",
              "      <td>8.0</td>\n",
              "    </tr>\n",
              "    <tr>\n",
              "      <th>1</th>\n",
              "      <td>25-11-97</td>\n",
              "      <td>SHIMLA</td>\n",
              "      <td>Onion</td>\n",
              "      <td>7.0</td>\n",
              "    </tr>\n",
              "    <tr>\n",
              "      <th>2</th>\n",
              "      <td>25-11-97</td>\n",
              "      <td>LUCKNOW</td>\n",
              "      <td>Onion</td>\n",
              "      <td>5.0</td>\n",
              "    </tr>\n",
              "    <tr>\n",
              "      <th>3</th>\n",
              "      <td>25-11-97</td>\n",
              "      <td>AHMEDABAD</td>\n",
              "      <td>Onion</td>\n",
              "      <td>6.0</td>\n",
              "    </tr>\n",
              "    <tr>\n",
              "      <th>4</th>\n",
              "      <td>25-11-97</td>\n",
              "      <td>BHOPAL</td>\n",
              "      <td>Onion</td>\n",
              "      <td>8.0</td>\n",
              "    </tr>\n",
              "  </tbody>\n",
              "</table>\n",
              "</div>"
            ],
            "text/plain": [
              "       Date Centre_Name Commodity_Name  Price\n",
              "0  25-11-97       DELHI          Onion    8.0\n",
              "1  25-11-97      SHIMLA          Onion    7.0\n",
              "2  25-11-97     LUCKNOW          Onion    5.0\n",
              "3  25-11-97   AHMEDABAD          Onion    6.0\n",
              "4  25-11-97      BHOPAL          Onion    8.0"
            ]
          },
          "execution_count": 19,
          "metadata": {},
          "output_type": "execute_result"
        }
      ],
      "source": [
        "onion.head()"
      ]
    },
    {
      "cell_type": "code",
      "execution_count": null,
      "metadata": {
        "ExecuteTime": {
          "end_time": "2021-02-17T09:52:15.262366Z",
          "start_time": "2021-02-17T09:52:15.231386Z"
        },
        "id": "JTMrQIBE8YKF",
        "outputId": "4cb0ec1e-0197-4f08-b3c1-7ab6e8ec967b"
      },
      "outputs": [
        {
          "data": {
            "text/html": [
              "<div>\n",
              "<style scoped>\n",
              "    .dataframe tbody tr th:only-of-type {\n",
              "        vertical-align: middle;\n",
              "    }\n",
              "\n",
              "    .dataframe tbody tr th {\n",
              "        vertical-align: top;\n",
              "    }\n",
              "\n",
              "    .dataframe thead th {\n",
              "        text-align: right;\n",
              "    }\n",
              "</style>\n",
              "<table border=\"1\" class=\"dataframe\">\n",
              "  <thead>\n",
              "    <tr style=\"text-align: right;\">\n",
              "      <th></th>\n",
              "      <th>Date</th>\n",
              "      <th>Centre_Name</th>\n",
              "      <th>Commodity_Name</th>\n",
              "      <th>Price</th>\n",
              "    </tr>\n",
              "  </thead>\n",
              "  <tbody>\n",
              "    <tr>\n",
              "      <th>0</th>\n",
              "      <td>25-11-97</td>\n",
              "      <td>DELHI</td>\n",
              "      <td>Onion</td>\n",
              "      <td>8.0</td>\n",
              "    </tr>\n",
              "    <tr>\n",
              "      <th>1</th>\n",
              "      <td>25-11-97</td>\n",
              "      <td>SHIMLA</td>\n",
              "      <td>Onion</td>\n",
              "      <td>7.0</td>\n",
              "    </tr>\n",
              "    <tr>\n",
              "      <th>2</th>\n",
              "      <td>25-11-97</td>\n",
              "      <td>LUCKNOW</td>\n",
              "      <td>Onion</td>\n",
              "      <td>5.0</td>\n",
              "    </tr>\n",
              "    <tr>\n",
              "      <th>3</th>\n",
              "      <td>25-11-97</td>\n",
              "      <td>AHMEDABAD</td>\n",
              "      <td>Onion</td>\n",
              "      <td>6.0</td>\n",
              "    </tr>\n",
              "    <tr>\n",
              "      <th>4</th>\n",
              "      <td>25-11-97</td>\n",
              "      <td>BHOPAL</td>\n",
              "      <td>Onion</td>\n",
              "      <td>8.0</td>\n",
              "    </tr>\n",
              "    <tr>\n",
              "      <th>5</th>\n",
              "      <td>25-11-97</td>\n",
              "      <td>MUMBAI</td>\n",
              "      <td>Onion</td>\n",
              "      <td>7.0</td>\n",
              "    </tr>\n",
              "    <tr>\n",
              "      <th>6</th>\n",
              "      <td>25-11-97</td>\n",
              "      <td>JAIPUR</td>\n",
              "      <td>Onion</td>\n",
              "      <td>6.0</td>\n",
              "    </tr>\n",
              "    <tr>\n",
              "      <th>7</th>\n",
              "      <td>25-11-97</td>\n",
              "      <td>PATNA</td>\n",
              "      <td>Onion</td>\n",
              "      <td>NaN</td>\n",
              "    </tr>\n",
              "    <tr>\n",
              "      <th>8</th>\n",
              "      <td>25-11-97</td>\n",
              "      <td>BHUBANESHWAR</td>\n",
              "      <td>Onion</td>\n",
              "      <td>9.0</td>\n",
              "    </tr>\n",
              "    <tr>\n",
              "      <th>9</th>\n",
              "      <td>25-11-97</td>\n",
              "      <td>KOLKATA</td>\n",
              "      <td>Onion</td>\n",
              "      <td>11.0</td>\n",
              "    </tr>\n",
              "    <tr>\n",
              "      <th>10</th>\n",
              "      <td>25-11-97</td>\n",
              "      <td>GUWAHATI</td>\n",
              "      <td>Onion</td>\n",
              "      <td>8.0</td>\n",
              "    </tr>\n",
              "    <tr>\n",
              "      <th>11</th>\n",
              "      <td>25-11-97</td>\n",
              "      <td>SHILLONG</td>\n",
              "      <td>Onion</td>\n",
              "      <td>9.0</td>\n",
              "    </tr>\n",
              "    <tr>\n",
              "      <th>12</th>\n",
              "      <td>25-11-97</td>\n",
              "      <td>AIZWAL</td>\n",
              "      <td>Onion</td>\n",
              "      <td>9.0</td>\n",
              "    </tr>\n",
              "    <tr>\n",
              "      <th>13</th>\n",
              "      <td>25-11-97</td>\n",
              "      <td>AGARTALA</td>\n",
              "      <td>Onion</td>\n",
              "      <td>9.0</td>\n",
              "    </tr>\n",
              "    <tr>\n",
              "      <th>14</th>\n",
              "      <td>25-11-97</td>\n",
              "      <td>BENGALURU</td>\n",
              "      <td>Onion</td>\n",
              "      <td>6.0</td>\n",
              "    </tr>\n",
              "  </tbody>\n",
              "</table>\n",
              "</div>"
            ],
            "text/plain": [
              "        Date   Centre_Name Commodity_Name  Price\n",
              "0   25-11-97         DELHI          Onion    8.0\n",
              "1   25-11-97        SHIMLA          Onion    7.0\n",
              "2   25-11-97       LUCKNOW          Onion    5.0\n",
              "3   25-11-97     AHMEDABAD          Onion    6.0\n",
              "4   25-11-97        BHOPAL          Onion    8.0\n",
              "5   25-11-97        MUMBAI          Onion    7.0\n",
              "6   25-11-97        JAIPUR          Onion    6.0\n",
              "7   25-11-97         PATNA          Onion    NaN\n",
              "8   25-11-97  BHUBANESHWAR          Onion    9.0\n",
              "9   25-11-97       KOLKATA          Onion   11.0\n",
              "10  25-11-97      GUWAHATI          Onion    8.0\n",
              "11  25-11-97      SHILLONG          Onion    9.0\n",
              "12  25-11-97        AIZWAL          Onion    9.0\n",
              "13  25-11-97      AGARTALA          Onion    9.0\n",
              "14  25-11-97     BENGALURU          Onion    6.0"
            ]
          },
          "execution_count": 20,
          "metadata": {},
          "output_type": "execute_result"
        }
      ],
      "source": [
        "onion.head(15)"
      ]
    },
    {
      "cell_type": "code",
      "execution_count": null,
      "metadata": {
        "ExecuteTime": {
          "end_time": "2021-02-17T09:52:16.196374Z",
          "start_time": "2021-02-17T09:52:16.173387Z"
        },
        "id": "nNmafQRl8YKG",
        "outputId": "36cf7c90-ac51-4fc3-b60f-10c6ca288f50"
      },
      "outputs": [
        {
          "data": {
            "text/html": [
              "<div>\n",
              "<style scoped>\n",
              "    .dataframe tbody tr th:only-of-type {\n",
              "        vertical-align: middle;\n",
              "    }\n",
              "\n",
              "    .dataframe tbody tr th {\n",
              "        vertical-align: top;\n",
              "    }\n",
              "\n",
              "    .dataframe thead th {\n",
              "        text-align: right;\n",
              "    }\n",
              "</style>\n",
              "<table border=\"1\" class=\"dataframe\">\n",
              "  <thead>\n",
              "    <tr style=\"text-align: right;\">\n",
              "      <th></th>\n",
              "      <th>Date</th>\n",
              "      <th>Centre_Name</th>\n",
              "      <th>Commodity_Name</th>\n",
              "      <th>Price</th>\n",
              "    </tr>\n",
              "  </thead>\n",
              "  <tbody>\n",
              "    <tr>\n",
              "      <th>127901</th>\n",
              "      <td>28-04-15</td>\n",
              "      <td>THRISSUR</td>\n",
              "      <td>Onion</td>\n",
              "      <td>30.0</td>\n",
              "    </tr>\n",
              "    <tr>\n",
              "      <th>127902</th>\n",
              "      <td>28-04-15</td>\n",
              "      <td>PALAKKAD</td>\n",
              "      <td>Onion</td>\n",
              "      <td>24.0</td>\n",
              "    </tr>\n",
              "    <tr>\n",
              "      <th>127903</th>\n",
              "      <td>28-04-15</td>\n",
              "      <td>WAYANAD</td>\n",
              "      <td>Onion</td>\n",
              "      <td>41.0</td>\n",
              "    </tr>\n",
              "    <tr>\n",
              "      <th>127904</th>\n",
              "      <td>28-04-15</td>\n",
              "      <td>PUDUCHERRY</td>\n",
              "      <td>Onion</td>\n",
              "      <td>18.0</td>\n",
              "    </tr>\n",
              "    <tr>\n",
              "      <th>127905</th>\n",
              "      <td>28-04-15</td>\n",
              "      <td>CHENNAI</td>\n",
              "      <td>Onion</td>\n",
              "      <td>19.0</td>\n",
              "    </tr>\n",
              "    <tr>\n",
              "      <th>127906</th>\n",
              "      <td>28-04-15</td>\n",
              "      <td>DINDIGUL</td>\n",
              "      <td>Onion</td>\n",
              "      <td>18.0</td>\n",
              "    </tr>\n",
              "    <tr>\n",
              "      <th>127907</th>\n",
              "      <td>28-04-15</td>\n",
              "      <td>THIRUCHIRAPALLI</td>\n",
              "      <td>Onion</td>\n",
              "      <td>18.0</td>\n",
              "    </tr>\n",
              "    <tr>\n",
              "      <th>127908</th>\n",
              "      <td>28-04-15</td>\n",
              "      <td>COIMBATORE</td>\n",
              "      <td>Onion</td>\n",
              "      <td>18.0</td>\n",
              "    </tr>\n",
              "    <tr>\n",
              "      <th>127909</th>\n",
              "      <td>28-04-15</td>\n",
              "      <td>TIRUNELVELI</td>\n",
              "      <td>Onion</td>\n",
              "      <td>18.0</td>\n",
              "    </tr>\n",
              "    <tr>\n",
              "      <th>127910</th>\n",
              "      <td>28-04-15</td>\n",
              "      <td>HYDERABAD</td>\n",
              "      <td>Onion</td>\n",
              "      <td>22.0</td>\n",
              "    </tr>\n",
              "  </tbody>\n",
              "</table>\n",
              "</div>"
            ],
            "text/plain": [
              "            Date      Centre_Name Commodity_Name  Price\n",
              "127901  28-04-15         THRISSUR          Onion   30.0\n",
              "127902  28-04-15         PALAKKAD          Onion   24.0\n",
              "127903  28-04-15          WAYANAD          Onion   41.0\n",
              "127904  28-04-15       PUDUCHERRY          Onion   18.0\n",
              "127905  28-04-15          CHENNAI          Onion   19.0\n",
              "127906  28-04-15         DINDIGUL          Onion   18.0\n",
              "127907  28-04-15  THIRUCHIRAPALLI          Onion   18.0\n",
              "127908  28-04-15       COIMBATORE          Onion   18.0\n",
              "127909  28-04-15      TIRUNELVELI          Onion   18.0\n",
              "127910  28-04-15        HYDERABAD          Onion   22.0"
            ]
          },
          "execution_count": 21,
          "metadata": {},
          "output_type": "execute_result"
        }
      ],
      "source": [
        "onion.tail(10)"
      ]
    },
    {
      "cell_type": "code",
      "execution_count": null,
      "metadata": {
        "ExecuteTime": {
          "end_time": "2021-02-17T09:52:17.409230Z",
          "start_time": "2021-02-17T09:52:17.376248Z"
        },
        "id": "rrBZrBG-8YKH",
        "outputId": "ffa35f8a-381c-4cc2-e703-a8d1947249c5"
      },
      "outputs": [
        {
          "data": {
            "text/html": [
              "<div>\n",
              "<style scoped>\n",
              "    .dataframe tbody tr th:only-of-type {\n",
              "        vertical-align: middle;\n",
              "    }\n",
              "\n",
              "    .dataframe tbody tr th {\n",
              "        vertical-align: top;\n",
              "    }\n",
              "\n",
              "    .dataframe thead th {\n",
              "        text-align: right;\n",
              "    }\n",
              "</style>\n",
              "<table border=\"1\" class=\"dataframe\">\n",
              "  <thead>\n",
              "    <tr style=\"text-align: right;\">\n",
              "      <th></th>\n",
              "      <th>Date</th>\n",
              "      <th>Centre_Name</th>\n",
              "      <th>Commodity_Name</th>\n",
              "      <th>Price</th>\n",
              "    </tr>\n",
              "  </thead>\n",
              "  <tbody>\n",
              "    <tr>\n",
              "      <th>127901</th>\n",
              "      <td>28-04-15</td>\n",
              "      <td>THRISSUR</td>\n",
              "      <td>Onion</td>\n",
              "      <td>30.0</td>\n",
              "    </tr>\n",
              "    <tr>\n",
              "      <th>127902</th>\n",
              "      <td>28-04-15</td>\n",
              "      <td>PALAKKAD</td>\n",
              "      <td>Onion</td>\n",
              "      <td>24.0</td>\n",
              "    </tr>\n",
              "    <tr>\n",
              "      <th>127903</th>\n",
              "      <td>28-04-15</td>\n",
              "      <td>WAYANAD</td>\n",
              "      <td>Onion</td>\n",
              "      <td>41.0</td>\n",
              "    </tr>\n",
              "    <tr>\n",
              "      <th>127904</th>\n",
              "      <td>28-04-15</td>\n",
              "      <td>PUDUCHERRY</td>\n",
              "      <td>Onion</td>\n",
              "      <td>18.0</td>\n",
              "    </tr>\n",
              "    <tr>\n",
              "      <th>127905</th>\n",
              "      <td>28-04-15</td>\n",
              "      <td>CHENNAI</td>\n",
              "      <td>Onion</td>\n",
              "      <td>19.0</td>\n",
              "    </tr>\n",
              "    <tr>\n",
              "      <th>127906</th>\n",
              "      <td>28-04-15</td>\n",
              "      <td>DINDIGUL</td>\n",
              "      <td>Onion</td>\n",
              "      <td>18.0</td>\n",
              "    </tr>\n",
              "    <tr>\n",
              "      <th>127907</th>\n",
              "      <td>28-04-15</td>\n",
              "      <td>THIRUCHIRAPALLI</td>\n",
              "      <td>Onion</td>\n",
              "      <td>18.0</td>\n",
              "    </tr>\n",
              "    <tr>\n",
              "      <th>127908</th>\n",
              "      <td>28-04-15</td>\n",
              "      <td>COIMBATORE</td>\n",
              "      <td>Onion</td>\n",
              "      <td>18.0</td>\n",
              "    </tr>\n",
              "    <tr>\n",
              "      <th>127909</th>\n",
              "      <td>28-04-15</td>\n",
              "      <td>TIRUNELVELI</td>\n",
              "      <td>Onion</td>\n",
              "      <td>18.0</td>\n",
              "    </tr>\n",
              "    <tr>\n",
              "      <th>127910</th>\n",
              "      <td>28-04-15</td>\n",
              "      <td>HYDERABAD</td>\n",
              "      <td>Onion</td>\n",
              "      <td>22.0</td>\n",
              "    </tr>\n",
              "  </tbody>\n",
              "</table>\n",
              "</div>"
            ],
            "text/plain": [
              "            Date      Centre_Name Commodity_Name  Price\n",
              "127901  28-04-15         THRISSUR          Onion   30.0\n",
              "127902  28-04-15         PALAKKAD          Onion   24.0\n",
              "127903  28-04-15          WAYANAD          Onion   41.0\n",
              "127904  28-04-15       PUDUCHERRY          Onion   18.0\n",
              "127905  28-04-15          CHENNAI          Onion   19.0\n",
              "127906  28-04-15         DINDIGUL          Onion   18.0\n",
              "127907  28-04-15  THIRUCHIRAPALLI          Onion   18.0\n",
              "127908  28-04-15       COIMBATORE          Onion   18.0\n",
              "127909  28-04-15      TIRUNELVELI          Onion   18.0\n",
              "127910  28-04-15        HYDERABAD          Onion   22.0"
            ]
          },
          "execution_count": 22,
          "metadata": {},
          "output_type": "execute_result"
        }
      ],
      "source": [
        "onion.tail(10)"
      ]
    },
    {
      "cell_type": "markdown",
      "metadata": {
        "id": "f4UcK7rg8YKI"
      },
      "source": [
        "# sorting by individual columns"
      ]
    },
    {
      "cell_type": "code",
      "execution_count": null,
      "metadata": {
        "ExecuteTime": {
          "end_time": "2021-02-17T09:52:20.013280Z",
          "start_time": "2021-02-17T09:52:19.957312Z"
        },
        "id": "_DggxCWm8YKI",
        "outputId": "00fff3fc-7933-4860-a84a-4ffc4c7f560a"
      },
      "outputs": [
        {
          "data": {
            "text/html": [
              "<div>\n",
              "<style scoped>\n",
              "    .dataframe tbody tr th:only-of-type {\n",
              "        vertical-align: middle;\n",
              "    }\n",
              "\n",
              "    .dataframe tbody tr th {\n",
              "        vertical-align: top;\n",
              "    }\n",
              "\n",
              "    .dataframe thead th {\n",
              "        text-align: right;\n",
              "    }\n",
              "</style>\n",
              "<table border=\"1\" class=\"dataframe\">\n",
              "  <thead>\n",
              "    <tr style=\"text-align: right;\">\n",
              "      <th></th>\n",
              "      <th>Date</th>\n",
              "      <th>Centre_Name</th>\n",
              "      <th>Commodity_Name</th>\n",
              "      <th>Price</th>\n",
              "    </tr>\n",
              "  </thead>\n",
              "  <tbody>\n",
              "    <tr>\n",
              "      <th>16130</th>\n",
              "      <td>19-07-01</td>\n",
              "      <td>BHOPAL</td>\n",
              "      <td>Onion</td>\n",
              "      <td>2.0</td>\n",
              "    </tr>\n",
              "    <tr>\n",
              "      <th>16094</th>\n",
              "      <td>17-07-01</td>\n",
              "      <td>BHOPAL</td>\n",
              "      <td>Onion</td>\n",
              "      <td>2.0</td>\n",
              "    </tr>\n",
              "    <tr>\n",
              "      <th>16112</th>\n",
              "      <td>18-07-01</td>\n",
              "      <td>BHOPAL</td>\n",
              "      <td>Onion</td>\n",
              "      <td>2.0</td>\n",
              "    </tr>\n",
              "    <tr>\n",
              "      <th>12008</th>\n",
              "      <td>11-08-00</td>\n",
              "      <td>BHOPAL</td>\n",
              "      <td>Onion</td>\n",
              "      <td>2.0</td>\n",
              "    </tr>\n",
              "    <tr>\n",
              "      <th>37260</th>\n",
              "      <td>28-04-06</td>\n",
              "      <td>BHOPAL</td>\n",
              "      <td>Onion</td>\n",
              "      <td>2.0</td>\n",
              "    </tr>\n",
              "    <tr>\n",
              "      <th>...</th>\n",
              "      <td>...</td>\n",
              "      <td>...</td>\n",
              "      <td>...</td>\n",
              "      <td>...</td>\n",
              "    </tr>\n",
              "    <tr>\n",
              "      <th>127813</th>\n",
              "      <td>27-04-15</td>\n",
              "      <td>SILIGURI</td>\n",
              "      <td>Onion</td>\n",
              "      <td>NaN</td>\n",
              "    </tr>\n",
              "    <tr>\n",
              "      <th>127815</th>\n",
              "      <td>27-04-15</td>\n",
              "      <td>ITANAGAR</td>\n",
              "      <td>Onion</td>\n",
              "      <td>NaN</td>\n",
              "    </tr>\n",
              "    <tr>\n",
              "      <th>127866</th>\n",
              "      <td>28-04-15</td>\n",
              "      <td>GWALIOR</td>\n",
              "      <td>Onion</td>\n",
              "      <td>NaN</td>\n",
              "    </tr>\n",
              "    <tr>\n",
              "      <th>127867</th>\n",
              "      <td>28-04-15</td>\n",
              "      <td>JABALPUR</td>\n",
              "      <td>Onion</td>\n",
              "      <td>NaN</td>\n",
              "    </tr>\n",
              "    <tr>\n",
              "      <th>127886</th>\n",
              "      <td>28-04-15</td>\n",
              "      <td>ITANAGAR</td>\n",
              "      <td>Onion</td>\n",
              "      <td>NaN</td>\n",
              "    </tr>\n",
              "  </tbody>\n",
              "</table>\n",
              "<p>127911 rows × 4 columns</p>\n",
              "</div>"
            ],
            "text/plain": [
              "            Date Centre_Name Commodity_Name  Price\n",
              "16130   19-07-01      BHOPAL          Onion    2.0\n",
              "16094   17-07-01      BHOPAL          Onion    2.0\n",
              "16112   18-07-01      BHOPAL          Onion    2.0\n",
              "12008   11-08-00      BHOPAL          Onion    2.0\n",
              "37260   28-04-06      BHOPAL          Onion    2.0\n",
              "...          ...         ...            ...    ...\n",
              "127813  27-04-15    SILIGURI          Onion    NaN\n",
              "127815  27-04-15    ITANAGAR          Onion    NaN\n",
              "127866  28-04-15     GWALIOR          Onion    NaN\n",
              "127867  28-04-15    JABALPUR          Onion    NaN\n",
              "127886  28-04-15    ITANAGAR          Onion    NaN\n",
              "\n",
              "[127911 rows x 4 columns]"
            ]
          },
          "execution_count": 23,
          "metadata": {},
          "output_type": "execute_result"
        }
      ],
      "source": [
        "onion.sort_values('Price')"
      ]
    },
    {
      "cell_type": "code",
      "execution_count": null,
      "metadata": {
        "id": "m7LGy7Yu8YKJ"
      },
      "outputs": [],
      "source": [
        "onion.sort_values(by=['Centre_Name','Price'])"
      ]
    },
    {
      "cell_type": "code",
      "execution_count": null,
      "metadata": {
        "ExecuteTime": {
          "end_time": "2021-02-17T09:52:22.778171Z",
          "start_time": "2021-02-17T09:52:22.540307Z"
        },
        "id": "2e536ypE8YKJ"
      },
      "outputs": [],
      "source": [
        "onion.sort_values('Centre_Name')"
      ]
    },
    {
      "cell_type": "code",
      "execution_count": null,
      "metadata": {
        "ExecuteTime": {
          "end_time": "2021-02-17T09:52:24.398946Z",
          "start_time": "2021-02-17T09:52:24.190069Z"
        },
        "id": "HAJ_uaxr8YKJ"
      },
      "outputs": [],
      "source": [
        "onion['Centre_Name'].sort_values()"
      ]
    },
    {
      "cell_type": "code",
      "execution_count": null,
      "metadata": {
        "ExecuteTime": {
          "end_time": "2021-02-17T09:52:26.732738Z",
          "start_time": "2021-02-17T09:52:26.681762Z"
        },
        "id": "WMjhzEid8YKK"
      },
      "outputs": [],
      "source": [
        "onion.sort_values('Price').head()"
      ]
    },
    {
      "cell_type": "code",
      "execution_count": null,
      "metadata": {
        "ExecuteTime": {
          "end_time": "2021-02-17T09:52:28.111237Z",
          "start_time": "2021-02-17T09:52:28.057270Z"
        },
        "id": "FKghDzyw8YKK",
        "outputId": "5df02771-a873-4cb9-9106-66d703a30b60"
      },
      "outputs": [
        {
          "data": {
            "text/html": [
              "<div>\n",
              "<style scoped>\n",
              "    .dataframe tbody tr th:only-of-type {\n",
              "        vertical-align: middle;\n",
              "    }\n",
              "\n",
              "    .dataframe tbody tr th {\n",
              "        vertical-align: top;\n",
              "    }\n",
              "\n",
              "    .dataframe thead th {\n",
              "        text-align: right;\n",
              "    }\n",
              "</style>\n",
              "<table border=\"1\" class=\"dataframe\">\n",
              "  <thead>\n",
              "    <tr style=\"text-align: right;\">\n",
              "      <th></th>\n",
              "      <th>Date</th>\n",
              "      <th>Centre_Name</th>\n",
              "      <th>Commodity_Name</th>\n",
              "      <th>Price</th>\n",
              "    </tr>\n",
              "  </thead>\n",
              "  <tbody>\n",
              "    <tr>\n",
              "      <th>106332</th>\n",
              "      <td>13-11-13</td>\n",
              "      <td>AIZWAL</td>\n",
              "      <td>Onion</td>\n",
              "      <td>100.0</td>\n",
              "    </tr>\n",
              "    <tr>\n",
              "      <th>107016</th>\n",
              "      <td>02-12-13</td>\n",
              "      <td>AIZWAL</td>\n",
              "      <td>Onion</td>\n",
              "      <td>100.0</td>\n",
              "    </tr>\n",
              "    <tr>\n",
              "      <th>105933</th>\n",
              "      <td>04-11-13</td>\n",
              "      <td>AIZWAL</td>\n",
              "      <td>Onion</td>\n",
              "      <td>100.0</td>\n",
              "    </tr>\n",
              "    <tr>\n",
              "      <th>106161</th>\n",
              "      <td>08-11-13</td>\n",
              "      <td>AIZWAL</td>\n",
              "      <td>Onion</td>\n",
              "      <td>100.0</td>\n",
              "    </tr>\n",
              "    <tr>\n",
              "      <th>106047</th>\n",
              "      <td>06-11-13</td>\n",
              "      <td>AIZWAL</td>\n",
              "      <td>Onion</td>\n",
              "      <td>100.0</td>\n",
              "    </tr>\n",
              "    <tr>\n",
              "      <th>...</th>\n",
              "      <td>...</td>\n",
              "      <td>...</td>\n",
              "      <td>...</td>\n",
              "      <td>...</td>\n",
              "    </tr>\n",
              "    <tr>\n",
              "      <th>127813</th>\n",
              "      <td>27-04-15</td>\n",
              "      <td>SILIGURI</td>\n",
              "      <td>Onion</td>\n",
              "      <td>NaN</td>\n",
              "    </tr>\n",
              "    <tr>\n",
              "      <th>127815</th>\n",
              "      <td>27-04-15</td>\n",
              "      <td>ITANAGAR</td>\n",
              "      <td>Onion</td>\n",
              "      <td>NaN</td>\n",
              "    </tr>\n",
              "    <tr>\n",
              "      <th>127866</th>\n",
              "      <td>28-04-15</td>\n",
              "      <td>GWALIOR</td>\n",
              "      <td>Onion</td>\n",
              "      <td>NaN</td>\n",
              "    </tr>\n",
              "    <tr>\n",
              "      <th>127867</th>\n",
              "      <td>28-04-15</td>\n",
              "      <td>JABALPUR</td>\n",
              "      <td>Onion</td>\n",
              "      <td>NaN</td>\n",
              "    </tr>\n",
              "    <tr>\n",
              "      <th>127886</th>\n",
              "      <td>28-04-15</td>\n",
              "      <td>ITANAGAR</td>\n",
              "      <td>Onion</td>\n",
              "      <td>NaN</td>\n",
              "    </tr>\n",
              "  </tbody>\n",
              "</table>\n",
              "<p>127911 rows × 4 columns</p>\n",
              "</div>"
            ],
            "text/plain": [
              "            Date Centre_Name Commodity_Name  Price\n",
              "106332  13-11-13      AIZWAL          Onion  100.0\n",
              "107016  02-12-13      AIZWAL          Onion  100.0\n",
              "105933  04-11-13      AIZWAL          Onion  100.0\n",
              "106161  08-11-13      AIZWAL          Onion  100.0\n",
              "106047  06-11-13      AIZWAL          Onion  100.0\n",
              "...          ...         ...            ...    ...\n",
              "127813  27-04-15    SILIGURI          Onion    NaN\n",
              "127815  27-04-15    ITANAGAR          Onion    NaN\n",
              "127866  28-04-15     GWALIOR          Onion    NaN\n",
              "127867  28-04-15    JABALPUR          Onion    NaN\n",
              "127886  28-04-15    ITANAGAR          Onion    NaN\n",
              "\n",
              "[127911 rows x 4 columns]"
            ]
          },
          "execution_count": 24,
          "metadata": {},
          "output_type": "execute_result"
        }
      ],
      "source": [
        "onion.sort_values('Price',ascending=False)"
      ]
    },
    {
      "cell_type": "markdown",
      "metadata": {
        "id": "rJWAR2lV8YKK"
      },
      "source": [
        "# selecting columns"
      ]
    },
    {
      "cell_type": "code",
      "execution_count": null,
      "metadata": {
        "ExecuteTime": {
          "end_time": "2021-02-17T09:52:30.221243Z",
          "start_time": "2021-02-17T09:52:30.208250Z"
        },
        "id": "Ae3ygkvr8YKL"
      },
      "outputs": [],
      "source": [
        "onion['Date']"
      ]
    },
    {
      "cell_type": "code",
      "execution_count": null,
      "metadata": {
        "ExecuteTime": {
          "end_time": "2021-02-17T09:52:30.925580Z",
          "start_time": "2021-02-17T09:52:30.901594Z"
        },
        "id": "maU3V4vF8YKL"
      },
      "outputs": [],
      "source": [
        "onion['Centre_Name']"
      ]
    },
    {
      "cell_type": "code",
      "execution_count": null,
      "metadata": {
        "ExecuteTime": {
          "end_time": "2021-02-17T09:52:48.872437Z",
          "start_time": "2021-02-17T09:52:48.838457Z"
        },
        "id": "mjx-fAFX8YKL"
      },
      "outputs": [],
      "source": [
        "onion[['Date', 'Price','Centre_Name']]"
      ]
    },
    {
      "cell_type": "markdown",
      "metadata": {
        "id": "j8U7oPbs8YKM"
      },
      "source": [
        "# groupby command"
      ]
    },
    {
      "cell_type": "code",
      "execution_count": null,
      "metadata": {
        "ExecuteTime": {
          "end_time": "2021-02-17T09:52:50.462119Z",
          "start_time": "2021-02-17T09:52:50.412149Z"
        },
        "id": "DFqtIPrS8YKM"
      },
      "outputs": [],
      "source": [
        "len(onion.groupby('Centre_Name'))"
      ]
    },
    {
      "cell_type": "code",
      "execution_count": null,
      "metadata": {
        "id": "3aCLlDKE8YKM"
      },
      "outputs": [],
      "source": [
        "len(onion.groupby('Price'))"
      ]
    },
    {
      "cell_type": "code",
      "execution_count": null,
      "metadata": {
        "ExecuteTime": {
          "end_time": "2021-02-17T09:52:52.534648Z",
          "start_time": "2021-02-17T09:52:51.477255Z"
        },
        "id": "tlgF3whY8YKN"
      },
      "outputs": [],
      "source": [
        "list(onion.groupby('Price'))"
      ]
    },
    {
      "cell_type": "code",
      "execution_count": null,
      "metadata": {
        "ExecuteTime": {
          "end_time": "2021-02-17T09:52:52.597613Z",
          "start_time": "2021-02-17T09:52:52.539646Z"
        },
        "id": "1WqNFnia8YKN"
      },
      "outputs": [],
      "source": [
        "len(onion.groupby('Price'))"
      ]
    },
    {
      "cell_type": "markdown",
      "metadata": {
        "id": "FDaZU89c8YKO"
      },
      "source": [
        "# dropping columns"
      ]
    },
    {
      "cell_type": "code",
      "execution_count": null,
      "metadata": {
        "ExecuteTime": {
          "end_time": "2021-02-17T09:52:55.204933Z",
          "start_time": "2021-02-17T09:52:55.171952Z"
        },
        "id": "8Jmr1OAD8YKO"
      },
      "outputs": [],
      "source": [
        "onion.drop(['Date', 'Commodity_Name'],axis=1)"
      ]
    },
    {
      "cell_type": "code",
      "execution_count": null,
      "metadata": {
        "ExecuteTime": {
          "end_time": "2021-02-17T09:52:59.244371Z",
          "start_time": "2021-02-17T09:52:59.222381Z"
        },
        "id": "fjXrXENr8YKO"
      },
      "outputs": [],
      "source": [
        "onion"
      ]
    },
    {
      "cell_type": "code",
      "execution_count": null,
      "metadata": {
        "ExecuteTime": {
          "end_time": "2021-02-17T09:50:56.778169Z",
          "start_time": "2021-02-17T09:50:56.764176Z"
        },
        "id": "mCPkVHL38YKP"
      },
      "outputs": [],
      "source": [
        "onion.drop(columns=['Date', 'Commodity_Name'],inplace=True)"
      ]
    },
    {
      "cell_type": "code",
      "execution_count": null,
      "metadata": {
        "ExecuteTime": {
          "end_time": "2021-02-17T09:50:59.146158Z",
          "start_time": "2021-02-17T09:50:59.127167Z"
        },
        "id": "IuL8Aw-m8YKP"
      },
      "outputs": [],
      "source": [
        "onion"
      ]
    },
    {
      "cell_type": "code",
      "execution_count": null,
      "metadata": {
        "ExecuteTime": {
          "end_time": "2021-02-17T02:02:58.827623Z",
          "start_time": "2021-02-17T02:02:58.724669Z"
        },
        "id": "uWeNea1E8YKn"
      },
      "outputs": [],
      "source": [
        "onion = read_csv(filename,names = header_names)"
      ]
    },
    {
      "cell_type": "code",
      "execution_count": null,
      "metadata": {
        "ExecuteTime": {
          "end_time": "2021-02-17T02:03:01.571097Z",
          "start_time": "2021-02-17T02:03:01.548111Z"
        },
        "id": "o7P2g0oK8YKo"
      },
      "outputs": [],
      "source": [
        "onion"
      ]
    },
    {
      "cell_type": "markdown",
      "metadata": {
        "id": "bH1nsU_C8YKo"
      },
      "source": [
        "# selecting columns by index - loc and iloc"
      ]
    },
    {
      "cell_type": "code",
      "execution_count": null,
      "metadata": {
        "ExecuteTime": {
          "end_time": "2021-02-17T02:03:07.832301Z",
          "start_time": "2021-02-17T02:03:07.810311Z"
        },
        "id": "LeqerDYe8YKp"
      },
      "outputs": [],
      "source": [
        "onion.iloc[:, 0:2]"
      ]
    },
    {
      "cell_type": "code",
      "execution_count": null,
      "metadata": {
        "ExecuteTime": {
          "end_time": "2021-02-17T02:03:16.684439Z",
          "start_time": "2021-02-17T02:03:16.661430Z"
        },
        "id": "I0fo0aqu8YKp"
      },
      "outputs": [],
      "source": [
        "onion[onion.columns[1:3]]"
      ]
    },
    {
      "cell_type": "markdown",
      "metadata": {
        "id": "CxExVvm48YKq"
      },
      "source": [
        "# rename columns"
      ]
    },
    {
      "cell_type": "code",
      "execution_count": null,
      "metadata": {
        "ExecuteTime": {
          "end_time": "2021-02-17T09:53:35.481400Z",
          "start_time": "2021-02-17T09:53:35.431919Z"
        },
        "id": "6hEprgWy8YKq"
      },
      "outputs": [],
      "source": [
        "onion.rename(columns={\"Date\": \"Date_of_Sale\"})"
      ]
    },
    {
      "cell_type": "code",
      "execution_count": null,
      "metadata": {
        "ExecuteTime": {
          "end_time": "2021-02-17T02:03:27.091262Z",
          "start_time": "2021-02-17T02:03:27.067274Z"
        },
        "id": "RYt8uXQK8YKr"
      },
      "outputs": [],
      "source": [
        "onion"
      ]
    },
    {
      "cell_type": "code",
      "execution_count": null,
      "metadata": {
        "ExecuteTime": {
          "end_time": "2021-02-17T02:03:34.916376Z",
          "start_time": "2021-02-17T02:03:34.899363Z"
        },
        "id": "bbO73cq48YKr"
      },
      "outputs": [],
      "source": [
        "onion.rename(columns={\"Date\": \"Date_of_Sale\"},inplace=True)"
      ]
    },
    {
      "cell_type": "code",
      "execution_count": null,
      "metadata": {
        "ExecuteTime": {
          "end_time": "2021-02-17T02:03:37.644634Z",
          "start_time": "2021-02-17T02:03:37.618650Z"
        },
        "id": "fp5fh8kL8YKs"
      },
      "outputs": [],
      "source": [
        "onion"
      ]
    },
    {
      "cell_type": "code",
      "execution_count": null,
      "metadata": {
        "ExecuteTime": {
          "end_time": "2021-02-17T02:03:41.896464Z",
          "start_time": "2021-02-17T02:03:41.793795Z"
        },
        "id": "xtfUnl8y8YKt"
      },
      "outputs": [],
      "source": [
        "onion = read_csv(filename,names = header_names)"
      ]
    },
    {
      "cell_type": "markdown",
      "metadata": {
        "id": "TaigF1QT8YKt"
      },
      "source": [
        "# set index and reset index"
      ]
    },
    {
      "cell_type": "code",
      "execution_count": null,
      "metadata": {
        "ExecuteTime": {
          "end_time": "2021-02-17T02:03:48.064059Z",
          "start_time": "2021-02-17T02:03:48.043072Z"
        },
        "id": "iUxltCDc8YKt"
      },
      "outputs": [],
      "source": [
        "print(onion.set_index(\"Price\"))"
      ]
    },
    {
      "cell_type": "code",
      "execution_count": null,
      "metadata": {
        "ExecuteTime": {
          "end_time": "2021-02-17T09:54:35.014295Z",
          "start_time": "2021-02-17T09:54:34.975318Z"
        },
        "id": "Avq2Np648YKu"
      },
      "outputs": [],
      "source": [
        "print(onion.set_index(\"Centre_Name\"))"
      ]
    },
    {
      "cell_type": "code",
      "execution_count": null,
      "metadata": {
        "ExecuteTime": {
          "end_time": "2021-02-17T09:57:44.378027Z",
          "start_time": "2021-02-17T09:57:44.345045Z"
        },
        "id": "SU8ZS4an8YKu"
      },
      "outputs": [],
      "source": [
        "onion[\"Price\"].value_counts()"
      ]
    },
    {
      "cell_type": "code",
      "execution_count": null,
      "metadata": {
        "ExecuteTime": {
          "end_time": "2021-02-17T02:03:59.048950Z",
          "start_time": "2021-02-17T02:03:59.032960Z"
        },
        "id": "eSEwgeFq8YKu"
      },
      "outputs": [],
      "source": [
        "print(onion.set_index(\"Centre_Name\",inplace=True))"
      ]
    },
    {
      "cell_type": "code",
      "execution_count": null,
      "metadata": {
        "ExecuteTime": {
          "end_time": "2021-02-17T02:04:02.287622Z",
          "start_time": "2021-02-17T02:04:02.256644Z"
        },
        "id": "JZgcP7ah8YKv"
      },
      "outputs": [],
      "source": [
        "onion"
      ]
    },
    {
      "cell_type": "markdown",
      "metadata": {
        "id": "Zvd3u_hj8YKv"
      },
      "source": [
        "# more simple commands"
      ]
    },
    {
      "cell_type": "code",
      "execution_count": null,
      "metadata": {
        "ExecuteTime": {
          "end_time": "2021-02-17T02:09:44.137241Z",
          "start_time": "2021-02-17T02:09:44.039070Z"
        },
        "id": "hfP0wYnq8YKw"
      },
      "outputs": [],
      "source": [
        "onion = read_csv(filename,names = header_names)"
      ]
    },
    {
      "cell_type": "code",
      "execution_count": null,
      "metadata": {
        "ExecuteTime": {
          "end_time": "2021-02-17T02:09:45.204808Z",
          "start_time": "2021-02-17T02:09:45.188820Z"
        },
        "id": "RSyIK4no8YKw"
      },
      "outputs": [],
      "source": [
        "onion[\"Price\"].value_counts()"
      ]
    },
    {
      "cell_type": "code",
      "execution_count": null,
      "metadata": {
        "ExecuteTime": {
          "end_time": "2021-02-17T02:09:47.228500Z",
          "start_time": "2021-02-17T02:09:47.191498Z"
        },
        "id": "13-m91J58YKx"
      },
      "outputs": [],
      "source": [
        "onion[\"Centre_Name\"].value_counts()"
      ]
    },
    {
      "cell_type": "code",
      "execution_count": null,
      "metadata": {
        "ExecuteTime": {
          "end_time": "2021-02-17T02:09:51.618561Z",
          "start_time": "2021-02-17T02:09:51.585558Z"
        },
        "id": "ZFh88SgF8YKx"
      },
      "outputs": [],
      "source": [
        "data['Commodity_Name'].value_counts()"
      ]
    },
    {
      "cell_type": "code",
      "execution_count": null,
      "metadata": {
        "ExecuteTime": {
          "end_time": "2021-02-17T09:59:53.439497Z",
          "start_time": "2021-02-17T09:59:53.404517Z"
        },
        "id": "yYpusdBE8YKy"
      },
      "outputs": [],
      "source": [
        "onion['Centre_Name'].unique()"
      ]
    },
    {
      "cell_type": "code",
      "execution_count": null,
      "metadata": {
        "ExecuteTime": {
          "end_time": "2021-02-17T09:59:54.757585Z",
          "start_time": "2021-02-17T09:59:54.737598Z"
        },
        "id": "IdzmP75a8YKz"
      },
      "outputs": [],
      "source": [
        "onion['Centre_Name'].nunique()"
      ]
    },
    {
      "cell_type": "markdown",
      "metadata": {
        "id": "_cuSQIPH8YK0"
      },
      "source": [
        "# smallest and largest elements"
      ]
    },
    {
      "cell_type": "code",
      "execution_count": null,
      "metadata": {
        "ExecuteTime": {
          "end_time": "2021-02-17T02:16:00.513688Z",
          "start_time": "2021-02-17T02:16:00.477708Z"
        },
        "id": "QjfLGVoc8YK0"
      },
      "outputs": [],
      "source": [
        "onion.nlargest(5,'Price')"
      ]
    },
    {
      "cell_type": "code",
      "execution_count": null,
      "metadata": {
        "ExecuteTime": {
          "end_time": "2021-02-17T02:16:01.081294Z",
          "start_time": "2021-02-17T02:16:01.046313Z"
        },
        "id": "FgtfCX488YK0"
      },
      "outputs": [],
      "source": [
        "data.nsmallest(5,'Price')"
      ]
    },
    {
      "cell_type": "code",
      "execution_count": null,
      "metadata": {
        "id": "NKAvrs368YK1"
      },
      "outputs": [],
      "source": []
    }
  ],
  "metadata": {
    "kernelspec": {
      "display_name": "Python 3 (ipykernel)",
      "language": "python",
      "name": "python3"
    },
    "language_info": {
      "codemirror_mode": {
        "name": "ipython",
        "version": 3
      },
      "file_extension": ".py",
      "mimetype": "text/x-python",
      "name": "python",
      "nbconvert_exporter": "python",
      "pygments_lexer": "ipython3",
      "version": "3.10.13"
    },
    "colab": {
      "provenance": [],
      "include_colab_link": true
    }
  },
  "nbformat": 4,
  "nbformat_minor": 0
}